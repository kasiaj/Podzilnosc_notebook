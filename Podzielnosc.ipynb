{
 "cells": [
  {
   "cell_type": "markdown",
   "metadata": {},
   "source": [
    "# Witam\n",
    "\n",
    "Gratuluje dojścia do tego punktu. Jest to notatnik przyspieszający rysowanie wykresów. Mam nadzieję że wszystko Państwu zadziała"
   ]
  },
  {
   "cell_type": "markdown",
   "metadata": {},
   "source": [
    "# Twoje funkcje:"
   ]
  },
  {
   "cell_type": "markdown",
   "metadata": {},
   "source": [
    "## 1. Rozwiązanie naiwne"
   ]
  },
  {
   "cell_type": "code",
   "execution_count": 58,
   "metadata": {
    "collapsed": true
   },
   "outputs": [],
   "source": [
    "\n",
    "def czy_podzielna1(liczba):\n",
    "    for i in range(liczba/10):\n",
    "        wynik=liczba\n"
   ]
  },
  {
   "cell_type": "markdown",
   "metadata": {},
   "source": [
    "## 2. Rozwiązanie rekurencyjne wykorzystujące cechę podzielności przez 11:"
   ]
  },
  {
   "cell_type": "code",
   "execution_count": 59,
   "metadata": {
    "collapsed": true
   },
   "outputs": [],
   "source": [
    "def czy_podzielna2(liczba):\n",
    "    for i in range(liczba/100):\n",
    "        for j in range(liczba/10):\n",
    "            wynik=liczba"
   ]
  },
  {
   "cell_type": "markdown",
   "metadata": {},
   "source": [
    "## 3. Rozwiązanie rekurencyjne wykorzystujące cechę podzielności przez 11:"
   ]
  },
  {
   "cell_type": "code",
   "execution_count": 60,
   "metadata": {
    "collapsed": true
   },
   "outputs": [],
   "source": [
    "#Tego nie zmieniaj\n",
    "def czy_podzielna3(liczba):\n",
    "    if liczba%11==0:\n",
    "        return \"podzielna\"\n",
    "    else:\n",
    "        return \"niepodzielna\""
   ]
  },
  {
   "cell_type": "markdown",
   "metadata": {},
   "source": [
    "# Obudowa procedurą liczącą czas: "
   ]
  },
  {
   "cell_type": "code",
   "execution_count": 61,
   "metadata": {
    "collapsed": true
   },
   "outputs": [],
   "source": [
    "data = range(100,10000,100)"
   ]
  },
  {
   "cell_type": "code",
   "execution_count": 62,
   "metadata": {
    "collapsed": false
   },
   "outputs": [],
   "source": [
    "from timeit import default_timer as timer"
   ]
  },
  {
   "cell_type": "code",
   "execution_count": 63,
   "metadata": {
    "collapsed": false
   },
   "outputs": [],
   "source": [
    "times1=[]\n",
    "for liczba in data:\n",
    "    start = timer()\n",
    "    czy_podzielna1(liczba)\n",
    "    times1.append(timer() - start)\n",
    "\n",
    "times2=[]\n",
    "for liczba in data:\n",
    "    start = timer()\n",
    "    czy_podzielna2(liczba)\n",
    "    times2.append(timer() - start)\n",
    "\n",
    "times3=[]\n",
    "for liczba in data:\n",
    "    start = timer()\n",
    "    czy_podzielna3(liczba)\n",
    "    times3.append(timer() - start)\n",
    "\n",
    "    \n",
    "   \n"
   ]
  },
  {
   "cell_type": "code",
   "execution_count": 64,
   "metadata": {
    "collapsed": false
   },
   "outputs": [
    {
     "name": "stdout",
     "output_type": "stream",
     "text": [
      "Populating the interactive namespace from numpy and matplotlib\n"
     ]
    },
    {
     "data": {
      "text/plain": [
       "<matplotlib.legend.Legend at 0x7fd8abdb1c10>"
      ]
     },
     "execution_count": 64,
     "metadata": {},
     "output_type": "execute_result"
    },
    {
     "data": {
      "image/png": "[encoded data removed]",
      "text/plain": [
       "<matplotlib.figure.Figure at 0x7fd8abd34f10>"
      ]
     },
     "metadata": {},
     "output_type": "display_data"
    }
   ],
   "source": [
    "%pylab inline\n",
    "import matplotlib\n",
    "import matplotlib.pyplot as plt\n",
    "\n",
    "\n",
    "plt.plot(data, times1, label = \"rozwiazanie naiwne\")\n",
    "\n",
    "plt.plot(data, times2, label = \"rekurencyjnie\")\n",
    "plt.plot(data, times3, label = \"modulo\")\n",
    "plt.grid(True,axis='y', which='major')\n",
    "plt.xlabel(\"Data size\") \n",
    "\n",
    "plt.ylabel(r\"Time [s]\")\n",
    "plt.legend(loc=2)"
   ]
  },
  {
   "cell_type": "code",
   "execution_count": null,
   "metadata": {
    "collapsed": true
   },
   "outputs": [],
   "source": []
  }
 ],
 "metadata": {
  "kernelspec": {
   "display_name": "Python2",
   "language": "python",
   "name": "python2"
  },
  "language_info": {
   "codemirror_mode": {
    "name": "ipython",
    "version": 2
   },
   "file_extension": ".py",
   "mimetype": "text/x-python",
   "name": "python",
   "nbconvert_exporter": "python",
   "pygments_lexer": "ipython2",
   "version": "2.7.6"
  }
 },
 "nbformat": 4,
 "nbformat_minor": 0
}
